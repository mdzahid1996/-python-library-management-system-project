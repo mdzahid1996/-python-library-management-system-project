{
 "cells": [
  {
   "cell_type": "code",
   "execution_count": 9,
   "metadata": {},
   "outputs": [],
   "source": [
    "import pyqt5ac"
   ]
  },
  {
   "cell_type": "code",
   "execution_count": 10,
   "metadata": {},
   "outputs": [
    {
     "name": "stdout",
     "output_type": "stream",
     "text": [
      "pyuic5 --from-imports -o 'C:\\Users\\This Pc\\Desktop\\data_science_begin\\raw_python\\app\\python_gui\\library_management_system\\generated\\app_design_ui.py' 'C:\\Users\\This Pc\\Desktop\\data_science_begin\\raw_python\\app\\python_gui\\library_management_system\\app_design.ui'\n",
      "pyrcc5 -o 'C:\\Users\\This Pc\\Desktop\\data_science_begin\\raw_python\\app\\python_gui\\library_management_system\\generated\\icons_rc.py' 'C:\\Users\\This Pc\\Desktop\\data_science_begin\\raw_python\\app\\python_gui\\library_management_system\\icons.qrc'\n"
     ]
    }
   ],
   "source": [
    "pyqt5ac.main(uicOptions='--from-imports', force=False, ioPaths=[\n",
    "        ['app_design.ui', 'generated/%%FILENAME%%_ui.py'],\n",
    "        ['icons.qrc', 'generated/%%FILENAME%%_rc.py']\n",
    "    ])"
   ]
  },
  {
   "cell_type": "code",
   "execution_count": null,
   "metadata": {},
   "outputs": [],
   "source": []
  }
 ],
 "metadata": {
  "kernelspec": {
   "display_name": "Python 3",
   "language": "python",
   "name": "python3"
  },
  "language_info": {
   "codemirror_mode": {
    "name": "ipython",
    "version": 3
   },
   "file_extension": ".py",
   "mimetype": "text/x-python",
   "name": "python",
   "nbconvert_exporter": "python",
   "pygments_lexer": "ipython3",
   "version": "3.6.8"
  }
 },
 "nbformat": 4,
 "nbformat_minor": 2
}
